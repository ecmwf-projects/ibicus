{
 "cells": [
  {
   "cell_type": "markdown",
   "id": "0c6cb208-a187-47b9-84cd-c608be232e1b",
   "metadata": {},
   "source": [
    "# 04 Parallezation and Advanced Topics"
   ]
  },
  {
   "cell_type": "markdown",
   "id": "99c1efb2-4561-4c25-8337-124c36119925",
   "metadata": {},
   "source": [
    "This notebooks demonstrates different options for running ibicus bias adjustment on larger areas and larger computing environments using the built-in parallelization and integration with dask. In the second part it looks at some advanced topics: logging as well as extending the package with own methods.\n"
   ]
  },
  {
   "cell_type": "markdown",
   "id": "4578b9a2-8195-45db-8bc3-b0eee89d4755",
   "metadata": {},
   "source": [
    "## 1. Running ibicus in larger environments: parallelization and dask"
   ]
  },
  {
   "cell_type": "markdown",
   "id": "2b759e72-6385-4213-8c21-a2129727e9ae",
   "metadata": {},
   "source": [
    "ibicus comes with an integrated parallelization option building upon the `multiprocessing` module. It also integrates easily with dask to run in HPC environments. In this notebook, we demonstrate these options using a CDFt and QuantileMapping debiaser."
   ]
  },
  {
   "cell_type": "code",
   "execution_count": 2,
   "id": "8bb4d6b0-f860-42b0-9453-f61290298591",
   "metadata": {},
   "outputs": [],
   "source": [
    "from ibicus.debias import CDFt, QuantileMapping"
   ]
  },
  {
   "cell_type": "markdown",
   "id": "c28b9a5d-4a77-442b-89b1-3017faffd977",
   "metadata": {},
   "source": [
    "Let's get some testing data. For an explanation of the steps please refer to the \"Getting started\" notebook:"
   ]
  },
  {
   "cell_type": "code",
   "execution_count": 3,
   "id": "40808b4e-c517-4490-9fae-1ebd86eba5d6",
   "metadata": {},
   "outputs": [],
   "source": [
    "import numpy as np\n",
    "\n",
    "def get_data(variable, data_path = \"testing_data/\"):\n",
    "    # Load in the data \n",
    "    data = np.load(f\"{data_path}{variable}.npz\", allow_pickle = True)\n",
    "    # Return arrays\n",
    "    return data[\"obs\"], data[\"cm_hist\"], data[\"cm_future\"], {\"time_obs\": data[\"time_obs\"], \"time_cm_hist\": data[\"time_cm_hist\"], \"time_cm_future\": data[\"time_cm_future\"]}"
   ]
  },
  {
   "cell_type": "code",
   "execution_count": 4,
   "id": "bcfdcd7b-f01c-4b04-99b6-343e4c5e9c35",
   "metadata": {},
   "outputs": [],
   "source": [
    "obs, cm_hist, cm_future, dates = get_data(\"tas\")"
   ]
  },
  {
   "cell_type": "markdown",
   "id": "4d0da871-005b-46c2-8187-b3aade373c00",
   "metadata": {},
   "source": [
    "### 1.1. Parallelization"
   ]
  },
  {
   "cell_type": "markdown",
   "id": "b0b6d679-8bcf-4823-bb0c-2682179a735d",
   "metadata": {},
   "source": [
    "Parallelization can be activated in the existing ibicus functionalities by simply specifying `parallel = True` in the `debiaser.apply`-function:"
   ]
  },
  {
   "cell_type": "code",
   "execution_count": 5,
   "id": "5ec9cc9d-f009-4a98-b245-d7a14cce9f38",
   "metadata": {},
   "outputs": [
    {
     "name": "stderr",
     "output_type": "stream",
     "text": [
      "/home/jakobwes/Desktop/ESoWC/ibicus/notebooks/own_testing_notebooks/../../ibicus/debias/_debiaser.py:535: UserWarning: progressbar argument is ignored when parallel = True.\n",
      "  warnings.warn(\"progressbar argument is ignored when parallel = True.\")\n"
     ]
    }
   ],
   "source": [
    "debiaser = CDFt.from_variable(\"tas\")\n",
    "debiased_cm_future = debiaser.apply(obs, cm_hist, cm_future, **dates, parallel = True, nr_processes = 8)"
   ]
  },
  {
   "cell_type": "markdown",
   "id": "4185668f-c046-4156-8310-3a9f9d4d99c1",
   "metadata": {},
   "source": [
    "The number of processes that run in parallel can be controlled using the `nr_processes` option. The default option are 4 processes. For more details see the [ibicus API reference](https://ibicus.readthedocs.io/en/latest/reference/debias.html#ibicus.debias.Debiaser). Important to note: no progressbar is shown in parallelized execution. \n",
    "\n",
    "We recommend using parallelization if users are interested in speeding up the execution of bias adjustment on a single machine."
   ]
  },
  {
   "cell_type": "markdown",
   "id": "84347a9a-daf2-4ce5-a4eb-46432c729468",
   "metadata": {},
   "source": [
    "### 1.2. Dask"
   ]
  },
  {
   "cell_type": "markdown",
   "id": "47d9b906-3738-4e32-a661-45194f7e7445",
   "metadata": {},
   "source": [
    "For some problems the speedup provided by the simple parallelization presented above does not provide enough flexibility: for example if users are interested in scaling debiasing in an HPC environment on many machines or if the observation and climate model data does not fit into RAM. \n",
    "\n",
    "To address these issues, ibicus integrates easily with `dask`.  `dask` is an open-source python library for parallel computing allowing users to easily scale their python code from multi-core machines to large clusters. It is integrated in both `xarray` and `iris` (see here for the [xarray dask integration](https://docs.xarray.dev/en/stable/user-guide/dask.html) and here for [the iris one](https://scitools-iris.readthedocs.io/en/latest/userguide/real_and_lazy_data.html)). In both both libraries, it is possible to extract the underlying dask arrays needed for computation. \n",
    "\n",
    "For a dask introduction see [here](https://tutorial.dask.org/00_overview.html) and for a practical introduction on how to use dask on a HPC cluster see [this tutorial](https://www.youtube.com/watch?v=FXsgmwpRExM&t=441s). We will only use the `dask.array` module here:"
   ]
  },
  {
   "cell_type": "code",
   "execution_count": 3,
   "id": "4f6c82e2-7724-4fa3-8e6c-f91c32c8e8f3",
   "metadata": {},
   "outputs": [],
   "source": [
    "import dask.array as da"
   ]
  },
  {
   "cell_type": "markdown",
   "id": "5e392f6c-de41-4fab-980f-1fcbe9a9435b",
   "metadata": {},
   "source": [
    "Let's get some larger testing data:"
   ]
  },
  {
   "cell_type": "code",
   "execution_count": 7,
   "id": "1aaca898-80e6-4111-bc58-c2473aca1b40",
   "metadata": {},
   "outputs": [],
   "source": [
    "obs = da.from_array(np.random.normal(270, 20, size = 50*50*10000).reshape((50, 50, 10000)), chunks=(5, 10, 10000))\n",
    "cm_hist = da.from_array(np.random.normal(265, 15, size = 50*50*10000).reshape((50, 50, 10000)), chunks=(5, 10, 10000))\n",
    "cm_future = da.from_array(np.random.normal(280, 30, size = 50*50*10000).reshape((50, 50, 10000)), chunks=(5, 10, 10000))"
   ]
  },
  {
   "cell_type": "markdown",
   "id": "76edda2e-92e7-408f-8cd6-d918ee28b3c2",
   "metadata": {},
   "source": [
    "For our purposes it is crucial that the dask arrays are **chunked in the spatial dimension** meaning chunks can be defined in the first two dimensions, but always need to include the full time dimension at each location. This is required to calculate the climatology at each location.\n",
    "\n",
    "Given correctly chunked arrays applying dask is easily possible by just mapping the `debiaser.apply` function over all chunks using eg. `map_blocks`:"
   ]
  },
  {
   "cell_type": "code",
   "execution_count": 8,
   "id": "de7b4668-7799-4bed-a9d4-c22d2f030eac",
   "metadata": {},
   "outputs": [],
   "source": [
    "debiaser = QuantileMapping.from_variable(\"tas\")\n",
    "\n",
    "collection = da.map_blocks(debiaser.apply, obs, cm_hist, cm_future, dtype=obs.dtype, progressbar = False, parallel = False)\n",
    "debiased_cm_future = collection.compute(num_workers=8)"
   ]
  },
  {
   "cell_type": "markdown",
   "id": "5fedbaed-5f2d-44bf-aeb2-8e2ddb9b4323",
   "metadata": {},
   "source": [
    "It is also possible to use other dask mapping functions such as `blockwise`. To use the ibicus `apply` function together with dask it is important to specify two arguments:\n",
    "\n",
    "- `progressbar = False` otherwise the progressbar output will fill the output log. A dask progressbar can be used by importing `dask.diagnostics.ProgressBar`.\n",
    "- `parallel = False` (default) because otherwise ibicus parallelisation will interfere with the dask one. \n",
    "\n",
    "In the case of bias adjustment methods where the apply function requires additional information such as time/dates,  this can be specified as keywords arguments to `map_blocks`. For very big runs it is also recommended to specify `failsafe = True` to make sure that if the debiaser fails at some locations the output for the other ones can still be saved. When doing so it is even more important to check the logs for any errors and to evaluate the output carefully.\n",
    "\n",
    "Dask itself provides a big variety of customization options and we recommend checking those out."
   ]
  },
  {
   "cell_type": "markdown",
   "id": "f670440e-6217-491d-941c-e8cb3ab2c913",
   "metadata": {},
   "source": [
    "## 2. What about logging and warnings?"
   ]
  },
  {
   "cell_type": "markdown",
   "id": "44705e77-c97d-40dd-ba3f-8aec31b17a62",
   "metadata": {},
   "source": [
    "A brief note on logging and warnings: when ibicus encounters issues during code execution a warning or error message will be raised and the standard python tools to handle these can be used. ibicus also writes logs during the execution and logs errors during failsafe mode. The logs are written to the \"ibicus\" logger (`ibicus.utils.get_library_logger()`) and utils provides some [options to set the logging level for ibicus](). The logging outputs can be handled in the usual way as specified by the [logging library](https://docs.python.org/3/howto/logging.html#logging-basic-tutorial): they can be formatted, written to file, ignored, etc. "
   ]
  },
  {
   "cell_type": "markdown",
   "id": "bceb0121-a8d1-480c-b5c9-737e2476dc72",
   "metadata": {},
   "source": [
    "## 3. Creating your own bias adjustment methods"
   ]
  },
  {
   "cell_type": "markdown",
   "id": "2e457cfe-1c4a-4989-a471-538e51f77c7e",
   "metadata": {},
   "source": [
    "By building upon the common framework and interface developed in the ibicus package, it is straightforward to implement your own bias adjustment methods when using the package. A new bias adjustment method can be set up as an attrs-child-class of the abstract `Debiaser`-class ([see here for the documentation](https://ibicus.readthedocs.io/en/latest/reference/debias.html#ibicus.debias.Debiaser)). A child class needs to include two functions:\n",
    "\n",
    "-  an `apply_location()` function which applies an initialised debiaser at one location. Arguments are 1d-vectors of obs, cm_hist, and cm_future representing observations, and climate model values during the reference (cm_hist) and future period (cm_future). Additionally kwargs passed to the debiaser apply()-function are passed down to the apply_location()-function.\n",
    "\n",
    "- a `from_variable()` function which initialises a debiaser with default arguments given a climatic variable either as str or member of the `Variable`-class. kwargs are meant to overwrite default arguments for this variable. Given a dict of default arguments with variables of the `Variable` class as keys and dict of default arguments as values the `cls._from_variable()`-function can be used to automatically map variable arguments to default settings.\n",
    "\n",
    "Given these two functions are provided, the abstract debiaser class then takes care of setup, iterating the application of the method over locations, parallelization, input sanitization, etc.\n",
    "\n",
    "Alternatively a user can also create a subclass of the `SeasonalRunningWindowDebiaser` or `SeasonalAndFutureRunningWindowDebiaser` class. This enables the user to apply the new method in a running window setting. Either in one over the year to account for seasonalities (`SeasonalRunningWindowDebiaser`), or in one over the year and over the years of the future period (`SeasonalAndFutureRunningWindowDebiaser`) to account for seasonality and smooth out trends: \n",
    "- For the `SeasonalRunningWindowDebiaser` the subclass needs specification of an `apply_on_seasonal_window` function instead of an `apply_location`-function. \n",
    "- Similarly for the `SeasonalAndFutureRunningWindowDebiaser` the subclass needs specification of an `apply_on_seasonal_and_future_window` function instead of an `apply_location`-function. \n",
    "\n",
    "Below is an example of how a new version of LinearScaling could be set up using the `SeasonalRunningWindowDebiaser`:"
   ]
  },
  {
   "cell_type": "code",
   "execution_count": null,
   "id": "27b0211d-2b80-4c09-9912-32b28bc05730",
   "metadata": {},
   "outputs": [],
   "source": [
    "import attrs\n",
    "import numpy as np\n",
    "\n",
    "# Import the SeasonalRunningWindowDebiaser from ibicus to subclass\n",
    "from ibicus.debias import SeasonalRunningWindowDebiaser\n",
    "\n",
    "# Define the new debiaser as an attrs-subclass. Slotted classes don't work well with inheritance so we use slots=False\n",
    "@attrs.define(slots=False)\n",
    "class LinearScaling(SeasonalRunningWindowDebiaser):\n",
    "\n",
    "    # Define an argument of the debiaser: the type of transformation used\n",
    "    delta_type: str = \"additive\"\n",
    "\n",
    "    # Define the from_variable-method to initialize the debiaser. \n",
    "    @classmethod\n",
    "    def from_variable(cls, variable, delta_type, **kwargs):\n",
    "        return cls(variable = variable, delta_type = delta_type)\n",
    "        \n",
    "    # Define the apply_on_window method to apply the debiaser\n",
    "    def apply_on_seasonal_window(self, obs, cm_hist, cm_future, **kwargs):\n",
    "        \n",
    "        # Depending on delta_type apply a different transformation\n",
    "        if self.delta_type == \"additive\":\n",
    "            return cm_future - (np.mean(cm_hist) - np.mean(obs))\n",
    "        \n",
    "        elif self.delta_type == \"multiplicative\":\n",
    "            return cm_future * (np.mean(obs) / np.mean(cm_hist))\n",
    "        \n",
    "        else:\n",
    "            raise ValueError('self.delta_type needs to be one of [\"additive\", \"multiplicative\"].')\n"
   ]
  },
  {
   "cell_type": "markdown",
   "id": "42e5ba74-f24d-40ff-b410-bd6439103190",
   "metadata": {},
   "source": [
    "We can then instantiate and apply the class as follows over a grid of locations:"
   ]
  },
  {
   "cell_type": "code",
   "execution_count": 22,
   "id": "9a8e89dd-92cd-4cb4-805d-f36c6cda6f69",
   "metadata": {},
   "outputs": [
    {
     "name": "stderr",
     "output_type": "stream",
     "text": [
      "100%|███████████████████████████████████████████| 9/9 [00:00<00:00, 5183.84it/s]\n"
     ]
    }
   ],
   "source": [
    "debiaser = LinearScaling.from_variable(\"tas\", delta_type = \"additive\")\n",
    "output = debiaser.apply(np.random.random((100, 3, 3))+280, np.random.random((100, 3, 3))+282, np.random.random((100, 3, 3))+284)"
   ]
  },
  {
   "cell_type": "markdown",
   "id": "0e51c8f7-00ab-4bd8-9222-3a4c2c815122",
   "metadata": {},
   "source": [
    "Class-attributes such as the `delta_type` can also be set up as `attrs.field` attributes. This has the advantage of enabling the automatic checking and sanitization of inputs. For example we could write the `delta_type`-definition as:\n",
    "\n",
    "```python\n",
    "delta_type: str = attrs.field(default=\"additive\", validator=attrs.validators.in_([\"additive\", \"multiplicative\"]))\n",
    "```\n",
    "\n",
    "In this example, the objective can only be created if `delta_type` is either *additive* or *multiplicative*. Otherwise, an error is given."
   ]
  },
  {
   "cell_type": "markdown",
   "id": "4ec24bda",
   "metadata": {},
   "source": [
    "Furthermore, the user can also define default settings and experimental default settings for different variables and use the `cls._from_variable()` function to map variable arguments to their settings when implementing a new method, as shown in the following example:"
   ]
  },
  {
   "cell_type": "code",
   "execution_count": null,
   "id": "847f5e8a-d475-43da-8776-e00ebe959a6f",
   "metadata": {},
   "outputs": [],
   "source": [
    "from ibicus.variables import tas, pr, hurs, psl\n",
    "\n",
    "# Define default setting and experimental default settings:\n",
    "default_settings = {tas: {\"delta_type\": \"additive\"}, pr: {\"delta_type\": \"multiplicative\"},}\n",
    "experimental_default_settings = {hurs: {\"delta_type\": \"multiplicative\"}, psl: {\"delta_type\": \"additive\"}}\n",
    "\n",
    "@attrs.define(slots=False)\n",
    "class LinearScaling(SeasonalRunningWindowDebiaser):\n",
    "    delta_type: str = \"additive\"\n",
    "\n",
    "    @classmethod\n",
    "    def from_variable(cls, variable, **kwargs):\n",
    "        # Use the cls._from_variable helper functions to map a variable onto it's settings\n",
    "        return cls._from_variable(cls, variable, default_settings, experimental_default_settings, **kwargs)\n",
    "        \n",
    "    def apply_on_seasonal_window(self, obs, cm_hist, cm_future, **kwargs):\n",
    "        if self.delta_type == \"additive\":\n",
    "            return cm_future - (np.mean(cm_hist) - np.mean(obs))\n",
    "        elif self.delta_type == \"multiplicative\":\n",
    "            return cm_future * (np.mean(obs) / np.mean(cm_hist))\n",
    "        else:\n",
    "            raise ValueError('self.delta_type needs to be one of [\"additive\", \"multiplicative\"].')\n"
   ]
  },
  {
   "cell_type": "markdown",
   "id": "c65de448-be55-4950-ad91-51df4c5f24c4",
   "metadata": {},
   "source": [
    "This allows instantiation and application as follows:"
   ]
  },
  {
   "cell_type": "code",
   "execution_count": 30,
   "id": "71d236c7-97bb-48ce-a9ef-4314da67210a",
   "metadata": {},
   "outputs": [
    {
     "name": "stderr",
     "output_type": "stream",
     "text": [
      "/tmp/ipykernel_44291/79605568.py:14: UserWarning: The default settings for variable psl in debiaser LinearScaling are currently still experimental and may not have been evaluated in the peer-reviewed literature. Please review the results with care!\n",
      "  return cls._from_variable(cls, variable, default_settings, experimental_default_settings, **kwargs)\n",
      "100%|███████████████████████████████████████████| 9/9 [00:00<00:00, 4026.96it/s]\n"
     ]
    }
   ],
   "source": [
    "debiaser = LinearScaling.from_variable(\"psl\")\n",
    "output = debiaser.apply(np.random.random((100, 3, 3))+1, np.random.random((100, 3, 3))+2, np.random.random((100, 3, 3))+3)"
   ]
  },
  {
   "cell_type": "markdown",
   "id": "77b77268-9c7d-4fb2-977a-00fd6aa30fc8",
   "metadata": {},
   "source": [
    "The LinearScaling debiaser set up here includes a running window functionality. If this is not required then we could also subclass the `Debiaser` instead of `SeasonalRunningWindowDebiaser` to set up a new debiaser."
   ]
  }
 ],
 "metadata": {
  "kernelspec": {
   "display_name": "Python 3 (ipykernel)",
   "language": "python",
   "name": "python3"
  },
  "language_info": {
   "codemirror_mode": {
    "name": "ipython",
    "version": 3
   },
   "file_extension": ".py",
   "mimetype": "text/x-python",
   "name": "python",
   "nbconvert_exporter": "python",
   "pygments_lexer": "ipython3",
   "version": "3.9.15"
  }
 },
 "nbformat": 4,
 "nbformat_minor": 5
}
